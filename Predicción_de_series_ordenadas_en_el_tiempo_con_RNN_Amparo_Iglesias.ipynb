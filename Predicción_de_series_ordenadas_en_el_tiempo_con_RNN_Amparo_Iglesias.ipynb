{
  "nbformat": 4,
  "nbformat_minor": 0,
  "metadata": {
    "colab": {
      "name": "Predicción de series ordenadas en el tiempo con RNN - Amparo Iglesias.ipynb",
      "provenance": [],
      "collapsed_sections": [],
      "include_colab_link": true
    },
    "kernelspec": {
      "name": "python3",
      "display_name": "Python 3"
    }
  },
  "cells": [
    {
      "cell_type": "markdown",
      "metadata": {
        "id": "view-in-github",
        "colab_type": "text"
      },
      "source": [
        "<a href=\"https://colab.research.google.com/github/ampiglesiasgo/Machine-learning/blob/master/Predicci%C3%B3n_de_series_ordenadas_en_el_tiempo_con_RNN_Amparo_Iglesias.ipynb\" target=\"_parent\"><img src=\"https://colab.research.google.com/assets/colab-badge.svg\" alt=\"Open In Colab\"/></a>"
      ]
    },
    {
      "cell_type": "markdown",
      "metadata": {
        "id": "JcnNGkW2mkfN",
        "colab_type": "text"
      },
      "source": [
        "# Workshop Deep Learning: RNN y LSTM\n",
        "\n",
        "A continuación se encuentra un ejemplo práctico del uso de Deep Learning, utilizando Keras y Tensorflow.\n",
        "\n",
        "---\n"
      ]
    },
    {
      "cell_type": "markdown",
      "metadata": {
        "id": "gnv6Jj9WoIPj",
        "colab_type": "text"
      },
      "source": [
        "## Predicción de series ordenadas en el tiempo\n",
        "\n",
        "En este proyecto se hará una predicción de una serie ordenada en el tiempo usando un regresor RNN (Recurrent Neural Network regressor).\n",
        "\n",
        "Se hará una predicción del precio de la acción de Apple con 7 días de anticipación, en base a una serie histórica.\n",
        "\n",
        "Se hará uso de una arquitectura para el RNN conocida como [Long Term Short Memory (LTSM)](https://en.wikipedia.org/wiki/Long_short-term_memory), que ayuda a evitar problemas técnicos con la optimización de RNNs."
      ]
    },
    {
      "cell_type": "markdown",
      "metadata": {
        "id": "vbDklWx_tvVz",
        "colab_type": "text"
      },
      "source": [
        "### Parte 1: Primeros pasos\n",
        "Primero se debe cargar una serie histórica. Cargaremos una serie con el precio de la acción de Apple de 140 días. Luego se hará un pre-procesamiento para utilizar la información con un modelo de una RNN. Como primer paso se normalizó el rango la serie. Esto ayuda a evitar grandes problemas numéricos asociados a como las funciones de activación como tanh transforman números muy grandes (sean positivos o negativos) y ayuda a evitar problemas con el cálculo de las derivadas.\n",
        "\n",
        "Se normaliza la serie para que pertenezca al rango [-1,1] [usando esta función de la librería scikit](https://scikit-learn.org/stable/modules/generated/sklearn.preprocessing.MinMaxScaler.html). También es común ver aplicaciones donde se normaliza utilizando la desviación estándar.\n"
      ]
    },
    {
      "cell_type": "code",
      "metadata": {
        "id": "45EDLqTnRbuI",
        "colab_type": "code",
        "colab": {}
      },
      "source": [
        "### Cargar las librerías necesarias para el cargado de los datos y la normalización\n",
        "%matplotlib inline\n",
        "import numpy as np\n",
        "import matplotlib.pyplot as plt\n",
        "\n",
        "\n",
        "# Clonar repositorio con los datos en espacio de trabajo\n",
        "! git clone https://bitbucket.org/botiaio/campusparty_applestock.git"
      ],
      "execution_count": 0,
      "outputs": []
    },
    {
      "cell_type": "code",
      "metadata": {
        "id": "oH4xQgvaKzLQ",
        "colab_type": "code",
        "colab": {}
      },
      "source": [
        ""
      ],
      "execution_count": 0,
      "outputs": []
    },
    {
      "cell_type": "code",
      "metadata": {
        "id": "nreN3_fWw2b9",
        "colab_type": "code",
        "colab": {}
      },
      "source": [
        "### Cargar los datos normalizados\n",
        "dataset = np.loadtxt('campusparty_applestock/normalized_apple_prices.csv')"
      ],
      "execution_count": 0,
      "outputs": []
    },
    {
      "cell_type": "markdown",
      "metadata": {
        "id": "-hJpnnBfzcKF",
        "colab_type": "text"
      },
      "source": [
        "Observemos los datos cargados"
      ]
    },
    {
      "cell_type": "code",
      "metadata": {
        "id": "Y7ipXvoIyZRt",
        "colab_type": "code",
        "outputId": "1d45bc84-cf3b-4139-b8c2-8c78adcf30ac",
        "colab": {
          "base_uri": "https://localhost:8080/",
          "height": 296
        }
      },
      "source": [
        "#Grafiquemos los datos\n",
        "plt.plot(dataset)\n",
        "plt.xlabel('periodo de tiempo')\n",
        "plt.ylabel('serie normalizada')"
      ],
      "execution_count": 0,
      "outputs": [
        {
          "output_type": "execute_result",
          "data": {
            "text/plain": [
              "Text(0, 0.5, 'serie normalizada')"
            ]
          },
          "metadata": {
            "tags": []
          },
          "execution_count": 29
        },
        {
          "output_type": "display_data",
          "data": {
            "image/png": "[encoded data removed]",
            "text/plain": [
              "<Figure size 432x288 with 1 Axes>"
            ]
          },
          "metadata": {
            "tags": []
          }
        }
      ]
    },
    {
      "cell_type": "markdown",
      "metadata": {
        "id": "uq-M4flwuQsJ",
        "colab_type": "text"
      },
      "source": [
        ""
      ]
    },
    {
      "cell_type": "markdown",
      "metadata": {
        "id": "IuD7SivS0bMn",
        "colab_type": "text"
      },
      "source": [
        "### Parte 2: Cortar la serie ordenada en secuencias\n",
        "\n",
        "Generalmente se representa matemáticamente una serie ordenada como:\n",
        "\n",
        "$$s_{0},s_{1},s_{2},...,s_{P}$$\n",
        "\n",
        "\n",
        "donde $s_{p}$ es el valor numérico de la serie en el intervalo de tiempo $p$ , siendo  $P$ el largo total de la serie. Para aplicar el RNN se debe tratar a la predicción como un problema de regresión. Para ello se debe usar una ventana móvil para construir un set asociado de pares de entrada-salida sobre los cuales aplicar la regresión.\n",
        "\n",
        "Por ejemplo, para una ventana de tamaño T = 3 se deben producir los siguientes pares:\n",
        "\n",
        "$$\\begin{array}{c|c}\n",
        "\\text{Input} & \\text{Output}\\\\\n",
        "\\hline \\color{CornflowerBlue} {\\langle s_{1},s_{2},s_{3}\\rangle} & \\color{Goldenrod}{ s_{4}} \\\\\n",
        "\\ \\color{CornflowerBlue} {\\langle s_{2},s_{3},s_{4} \\rangle } & \\color{Goldenrod} {s_{5} } \\\\\n",
        "\\color{CornflowerBlue}  {\\vdots} & \\color{Goldenrod} {\\vdots}\\\\\n",
        "\\color{CornflowerBlue} { \\langle s_{P-3},s_{P-2},s_{P-1} \\rangle } & \\color{Goldenrod} {s_{P}}\n",
        "\\end{array}$$\n",
        "\n",
        "\n",
        "####Ventana móvil\n",
        "Completar la función llamada **window_transform_series** que ejecuta una ventana móvil a lo largo de una serie de datos y crea los pares de input y output necesarios para el entrenamiento.\n",
        "\n",
        "La función recibe la serie de datos y el tamaño de la ventana (3 en el ejemplo de arriba). Se debe retornar un numpy array."
      ]
    },
    {
      "cell_type": "code",
      "metadata": {
        "id": "HYQ400ZvxkDS",
        "colab_type": "code",
        "colab": {}
      },
      "source": [
        "### @TODO: completar la función debajo que transforma los datos en los pares input-output necesarios dado el tamaño de la ventana\n",
        "def window_transform_series(series,window_size):\n",
        "    # variables para los pares input-output\n",
        "    X = []\n",
        "    y = []\n",
        "    \n",
        "    ### Se recomienda usar un for dentro de otro for aquí\n",
        "    \"\"\"Tomo el mismo vector de datos, y voy agregando a mis nuevos vectores x e y, \n",
        "     en x desde el valor de i , hasta  i mas el tamano de mi particition, y en Y el valor proximo al ultimo valor de x \n",
        "     Ejemplo: X[0:2] e y[2]\"\"\"\n",
        "    for i in range(0, len(series) - window_size):\n",
        "        X.append(series[i:i + window_size])\n",
        "        y.append(series[i + window_size])\n",
        "        \n",
        "    # Defino el shape necesario\n",
        "    X = np.asarray(X)\n",
        "    X.shape = (np.shape(X)[0:2])\n",
        "    y = np.asarray(y)\n",
        "    y.shape = (len(y),1)\n",
        "    \n",
        "    return X,y"
      ],
      "execution_count": 0,
      "outputs": []
    },
    {
      "cell_type": "markdown",
      "metadata": {
        "id": "Ko2NEdo-5qTg",
        "colab_type": "text"
      },
      "source": [
        "Se puede probar la función con los datos de debajo:"
      ]
    },
    {
      "cell_type": "code",
      "metadata": {
        "id": "ZE9nGiEq5mFE",
        "colab_type": "code",
        "colab": {}
      },
      "source": [
        "odd_nums = np.array([1,3,5,7,9,11,13])"
      ],
      "execution_count": 0,
      "outputs": []
    },
    {
      "cell_type": "code",
      "metadata": {
        "id": "4wz5jQbq5uQS",
        "colab_type": "code",
        "colab": {}
      },
      "source": [
        "### @TODO\n",
        "# Utilizar una ventana de tamaño 2 y obtener el siguiente número impar\n",
        "#window_size = 2\n",
        "#X,y = window_transform_series(odd_nums, window_size)\n",
        "\n"
      ],
      "execution_count": 0,
      "outputs": []
    },
    {
      "cell_type": "markdown",
      "metadata": {
        "id": "twP8lefj50wH",
        "colab_type": "text"
      },
      "source": [
        "\n",
        "#Una vez que la función de arriba funcione correctamente, aplicarla con una ventana de tamaño 7 al juego de datos cargados.\n",
        "\n",
        "# Luego de probar la funcion anterior con un ejemplo mas pequeño, comento lo anterior, y cambio de orden de los prints, para poder observar detalle de los datos que vamos a utilizar \n",
        "\n"
      ]
    },
    {
      "cell_type": "code",
      "metadata": {
        "id": "jp03sQYp5yiy",
        "colab_type": "code",
        "colab": {}
      },
      "source": [
        "### @TODO\n",
        "# Definir la variable window_size y usarla al invocar la función window_transform_series\n",
        "window_size = 7\n",
        "X,y = window_transform_series(dataset, window_size)"
      ],
      "execution_count": 0,
      "outputs": []
    },
    {
      "cell_type": "code",
      "metadata": {
        "id": "SYGfV2mT5wOu",
        "colab_type": "code",
        "colab": {}
      },
      "source": [
        "print ('El input X es:')\n",
        "print (X)\n",
        "\n",
        "print ('El output y asociado es:')\n",
        "print (y)\n",
        "\n",
        "print ('El shape de X es ' + str(np.shape(X)))\n",
        "print ('El shape de y es ' + str(np.shape(y)))\n",
        "print('El tipo de X es ' + str(type(X)))\n",
        "print('El tipo de y es ' + str(type(y)))"
      ],
      "execution_count": 0,
      "outputs": []
    },
    {
      "cell_type": "markdown",
      "metadata": {
        "id": "t2BYsK4W56zB",
        "colab_type": "text"
      },
      "source": [
        "###Parte 3: Separar los datos en datos de entrenamiento y de test\n",
        "Se recomienda separar al menos un tercio de los datos para validación o test. Esto se hace en la celda a continuación.\n",
        "\n",
        "Notar como NO se está haciendo el split randómicamente, lo que es usualmente recomendado. Esto se debe a que los pares de input-output están relacionados temporalmente. Por ende, se entrenará con los dos primeros tercios de los datos y se validará con el último tercio de los mismos. Esto simula el caso de predecir valores futuros de la serie ordenada."
      ]
    },
    {
      "cell_type": "code",
      "metadata": {
        "id": "V8iZ5rLF53zT",
        "colab_type": "code",
        "colab": {}
      },
      "source": [
        "### @TODO\n",
        "# Separar los datos en entrenamiento y test\n",
        "train_test_split = int(np.ceil(2*len(y)/float(3)))   # Definir el punto de separación \n",
        "\n",
        "#Verifico cual es\n",
        "print(\"train_test_split\", train_test_split)\n",
        "\n",
        "\n",
        "# Partir los datos\n",
        "#Tomo los valores del unico del array hasta el punto de separacion , en caso de x los \":\" del segundo termino es para que tome todos los valores\n",
        "#dentro de la posicion anterior. Asocio los valores a y de la misma forma. \n",
        "X_train = X[0:train_test_split , :]\n",
        "y_train = y[0:train_test_split]\n",
        "\n",
        "#Verificar que valores quedaron , siempre que sea posible. \n",
        "print(\"X_train\" , X_train)\n",
        "print(\"y_train\" , y_train)\n",
        "\n",
        "# Mantener la última parte para test\n",
        "#Separo la parte de test, tomando los valores desde el punto de corte hasta el final del array.\n",
        "X_test = X[train_test_split:,:]\n",
        "y_test = y[train_test_split:]\n",
        "\n",
        "\n",
        "#Verificar que valores quedaron\n",
        "print(\"X_test\" , X_test)\n",
        "print(\"y_test\" , y_test)"
      ],
      "execution_count": 0,
      "outputs": []
    },
    {
      "cell_type": "code",
      "metadata": {
        "id": "WcYCHvJs6EhM",
        "colab_type": "code",
        "colab": {}
      },
      "source": [
        "# IMPORTANTE: para utilizar el módulo RNN LSTM de Keras el input debe tener la forma [samples, window size, stepsize]\n",
        "#Estas transformaciones se hacen a continuación , restructuro los arrays.\n",
        "X_train = np.asarray(np.reshape(X_train, (X_train.shape[0], window_size, 1)))\n",
        "X_test = np.asarray(np.reshape(X_test, (X_test.shape[0], window_size, 1)))\n",
        "\n",
        "print(\"X_train\",X_train)\n",
        "print(\"X_test\",X_test)"
      ],
      "execution_count": 0,
      "outputs": []
    },
    {
      "cell_type": "markdown",
      "metadata": {
        "id": "tJF0hQ606KI-",
        "colab_type": "text"
      },
      "source": [
        "###Parte 4: Crear y ejecutar un modelo de regresión utilizando RNN\n",
        "\n",
        "Se utilizará Keras para construir una red neuronal con dos capas ocultas RNN con las siguientes especificaciones:\n",
        "\n",
        "* La capa 1 debe usar un módulo LSTM con 5 unidades ocultas (el input_shape de la misma debe ser (window_size,1))\n",
        "* La capa 2 usa un módulo completamente conectado (fully connected) con una unidad\n",
        "* Se debe usar la función de pérdida 'mean_squared_error'\n",
        "\n",
        "Ayudas:\n",
        "\n",
        "* [Documentación general de Keras](https://keras.io/getting-started/sequential-model-guide/)\n",
        "* [Documentación de Keras de LTSM](https://keras.io/layers/recurrent/)\n",
        "* Asegurarse de inicializar el [optimizador recomendado por Keras para RNN](https://keras.io/optimizers/)"
      ]
    },
    {
      "cell_type": "code",
      "metadata": {
        "id": "q33SHho_6GL0",
        "colab_type": "code",
        "colab": {}
      },
      "source": [
        "### @TODO: Crear el modelo RNN\n",
        "# Importar librerías de Keras\n",
        "from keras.models import Sequential\n",
        "from keras.layers import Dense\n",
        "from keras.layers import LSTM\n",
        "import keras\n",
        "\n",
        "#Crear el modelo secuencial\n",
        "#Inicializo la RNN\n",
        "model = Sequential()\n",
        "#Agregar una capa LSTM con 5 unidades ocultas y el input shape necesario\n",
        "model.add(LSTM(5, input_shape=(window_size,1)))\n",
        "#Agregar una capa densa con una unidad, output layer\n",
        "model.add(Dense(1))\n",
        "\n",
        "# Crear el modelo utilizando el optimizador recomendado por la documentación de keras\n",
        "\"\"\"Agregamos los valores de learning rate, el cual se define comunmente entre 0.001 --> 0.01. \n",
        "Le coloque un valor intermedio de 0.001 (De esta forma tambien estaba formulado en la documentacion) , \n",
        "Luego para Rho,medida de correlación de lo valores, lo dejo 0.9 \"\"\"\n",
        "optimizer = keras.optimizers.RMSprop(lr=0.001, rho=0.9)\n",
        "\n",
        "# Compilar el modelo con la función de pérdida requerida\n",
        "#Se utiliza la funcion mean squared error para el accuracy porque la prediccion sera un valor continuo y no discreto.\n",
        "model.compile(loss='mean_squared_error', optimizer=optimizer)"
      ],
      "execution_count": 0,
      "outputs": []
    },
    {
      "cell_type": "markdown",
      "metadata": {
        "id": "gd-dZ1ix60lN",
        "colab_type": "text"
      },
      "source": [
        "Entrenar el modelo con los datos separados para esta función haciendo uso de la función fit.\n",
        "\n",
        "Sugerencia: Investigar y probar con distintos valores de epochs y tamaño de batch. Buscar en la documentación de keras por más información.\n"
      ]
    },
    {
      "cell_type": "code",
      "metadata": {
        "id": "8gVfdvyk6xaK",
        "colab_type": "code",
        "outputId": "7ecb1358-95a3-43b9-c6d2-e3626f6628ac",
        "colab": {
          "base_uri": "https://localhost:8080/",
          "height": 34
        }
      },
      "source": [
        "### @TODO\n",
        "# Hacer fit\n",
        "\"\"\" Definimos en 60 el numero de muestras por actualización de gradiente. Batch_size.\n",
        "La red está entrenada para 1000 épocas, ya que generalmente las redes requieren muchas épocas para su entrenamiento  \n",
        "para realizar un mejor ajuste de los pesos para todos los pares de entrenamientos \n",
        "Luego, se definio el parametro verbose en 0, para no ver nada mientras se va entrenando el modelo. Si se coloca el valor en 1 o 2, \n",
        "se muestra el proceso con etiquetas como Epoch 972/1000\n",
        "88/88 [==============================] - 0s 221us/step - loss: 0.0155\"\"\"\n",
        "model.fit(X_train, y_train, epochs=1000, batch_size=60, verbose=0)\n"
      ],
      "execution_count": 0,
      "outputs": [
        {
          "output_type": "execute_result",
          "data": {
            "text/plain": [
              "<keras.callbacks.History at 0x7f55f864b5c0>"
            ]
          },
          "metadata": {
            "tags": []
          },
          "execution_count": 42
        }
      ]
    },
    {
      "cell_type": "markdown",
      "metadata": {
        "id": "W52-gZHg7BRF",
        "colab_type": "text"
      },
      "source": [
        "###Parte 5: Medir la performance del modelo\n",
        "Ahora estamos en condiciones de hacer una predicción"
      ]
    },
    {
      "cell_type": "code",
      "metadata": {
        "id": "-6bFrjyN65zU",
        "colab_type": "code",
        "colab": {}
      },
      "source": [
        "### @TODO\n",
        "# Hacer la predicción con el modelo entrenado\n",
        "#Se realiza la prediccion sobre el dataset de entrenamiento , y el de validacion. \n",
        "#Tiene el dataset como argumento y devuelve la label o valor aprendido para cada objeto de la matriz.\n",
        "train_predict = model.predict(X_train)\n",
        "test_predict = model.predict(X_test)\n"
      ],
      "execution_count": 0,
      "outputs": []
    },
    {
      "cell_type": "markdown",
      "metadata": {
        "id": "8VmgFxfR7Ifz",
        "colab_type": "text"
      },
      "source": [
        "Se debería obtener un error sobre los datos de entrenamiento como de test menor al 2%. Si no se consigue este valor, se puede aumentar el número de epochs y re-entrenar el modelo o ajustar el tamaño del batch. Estudiar en la documentación que otros hiper-parámetros se pueden modificar para mejorar la precisión."
      ]
    },
    {
      "cell_type": "code",
      "metadata": {
        "id": "mB6rI3UT7HJa",
        "colab_type": "code",
        "outputId": "c3be0251-1cd4-4f38-8a65-19722ac14330",
        "colab": {
          "base_uri": "https://localhost:8080/",
          "height": 51
        }
      },
      "source": [
        "# Medir la precisión\n",
        "training_error = model.evaluate(X_train, y_train, verbose=0)\n",
        "print('Error de entrenamiento = ' + str(training_error))\n",
        "\n",
        "testing_error = model.evaluate(X_test, y_test, verbose=0)\n",
        "print('Error de test = ' + str(testing_error))"
      ],
      "execution_count": 0,
      "outputs": [
        {
          "output_type": "stream",
          "text": [
            "Error de entrenamiento = 0.013964113694700327\n",
            "Error de test = 0.015463124440852986\n"
          ],
          "name": "stdout"
        }
      ]
    },
    {
      "cell_type": "markdown",
      "metadata": {
        "id": "kE3n15SKBdSt",
        "colab_type": "text"
      },
      "source": [
        "# Observese que se obtuvo errores menores al 2% , por lo tanto los parametros definidos en el modelo, fueron bueno para los datos con lo que se estaba trabajando. "
      ]
    },
    {
      "cell_type": "markdown",
      "metadata": {
        "id": "Sh6fy9Rv7Pw3",
        "colab_type": "text"
      },
      "source": [
        "Ahora grafiquemos los datos:"
      ]
    },
    {
      "cell_type": "code",
      "metadata": {
        "id": "Wk8LtGp-7M5A",
        "colab_type": "code",
        "outputId": "a922c5db-992c-4a12-92b3-fe12449c2c4a",
        "colab": {
          "base_uri": "https://localhost:8080/",
          "height": 279
        }
      },
      "source": [
        "import matplotlib.pyplot as plt\n",
        "%matplotlib inline\n",
        "\n",
        "# Graficar serie original\n",
        "plt.plot(dataset,color = 'k')\n",
        "\n",
        "# Graficar la predicción de entrenamiento\n",
        "split_pt = train_test_split + window_size \n",
        "plt.plot(np.arange(window_size,split_pt,1),train_predict,color = 'b')\n",
        "\n",
        "# Graficar la predicción de validación\n",
        "plt.plot(np.arange(split_pt,split_pt + len(test_predict),1),test_predict,color = 'r')\n",
        "\n",
        "# Agregar rótulos\n",
        "plt.xlabel('día')\n",
        "plt.ylabel('Precio de acción de Apple (normalizado)')\n",
        "plt.legend(['Serie original','Predicción de training','Predicción de validación'],loc='center left', bbox_to_anchor=(1, 0.5))\n",
        "plt.show()"
      ],
      "execution_count": 0,
      "outputs": [
        {
          "output_type": "display_data",
          "data": {
            "image/png": "[encoded data removed]",
            "text/plain": [
              "<Figure size 432x288 with 1 Axes>"
            ]
          },
          "metadata": {
            "tags": []
          }
        }
      ]
    },
    {
      "cell_type": "markdown",
      "metadata": {
        "id": "rteaX5F97UVa",
        "colab_type": "text"
      },
      "source": [
        "Nota:[Aquí](https://datamarket.com/data/list/?q=provider%3Atsdl) se pueden encontrar otras series ordenadas con las que probar"
      ]
    }
  ]
}